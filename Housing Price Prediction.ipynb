{
 "cells": [
  {
   "cell_type": "markdown",
   "id": "82716d29",
   "metadata": {},
   "source": [
    "# Predicting Nigeria House Prices Using ML\n",
    "\n",
    "**Project Description:**\n",
    "Exploring the Nigerian house dataset, in this project we will be performing\n",
    "Data Cleaning, Exploratory Data Analysis and finally building a model to\n",
    "predict the price of a house based on the features in the dataset"
   ]
  },
  {
   "cell_type": "markdown",
   "id": "1def08ae",
   "metadata": {},
   "source": [
    "### Import Libraries"
   ]
  },
  {
   "cell_type": "code",
   "execution_count": 158,
   "id": "a9db8e82",
   "metadata": {},
   "outputs": [],
   "source": [
    "import numpy as np\n",
    "import pandas as pd \n",
    "import matplotlib.pyplot as plt\n",
    "import seaborn as sns\n",
    "\n",
    "%matplotlib inline"
   ]
  },
  {
   "cell_type": "markdown",
   "id": "f7752c0a",
   "metadata": {},
   "source": [
    "### Import Dataset"
   ]
  },
  {
   "cell_type": "code",
   "execution_count": 179,
   "id": "b69a9eb9",
   "metadata": {},
   "outputs": [
    {
     "data": {
      "text/html": [
       "<div>\n",
       "<style scoped>\n",
       "    .dataframe tbody tr th:only-of-type {\n",
       "        vertical-align: middle;\n",
       "    }\n",
       "\n",
       "    .dataframe tbody tr th {\n",
       "        vertical-align: top;\n",
       "    }\n",
       "\n",
       "    .dataframe thead th {\n",
       "        text-align: right;\n",
       "    }\n",
       "</style>\n",
       "<table border=\"1\" class=\"dataframe\">\n",
       "  <thead>\n",
       "    <tr style=\"text-align: right;\">\n",
       "      <th></th>\n",
       "      <th>bedrooms</th>\n",
       "      <th>bathrooms</th>\n",
       "      <th>toilets</th>\n",
       "      <th>parking_space</th>\n",
       "      <th>title</th>\n",
       "      <th>town</th>\n",
       "      <th>state</th>\n",
       "      <th>price</th>\n",
       "    </tr>\n",
       "  </thead>\n",
       "  <tbody>\n",
       "    <tr>\n",
       "      <th>0</th>\n",
       "      <td>6.0</td>\n",
       "      <td>5.0</td>\n",
       "      <td>5.0</td>\n",
       "      <td>4.0</td>\n",
       "      <td>Detached Duplex</td>\n",
       "      <td>Mabushi</td>\n",
       "      <td>Abuja</td>\n",
       "      <td>450000000.0</td>\n",
       "    </tr>\n",
       "    <tr>\n",
       "      <th>1</th>\n",
       "      <td>4.0</td>\n",
       "      <td>5.0</td>\n",
       "      <td>5.0</td>\n",
       "      <td>4.0</td>\n",
       "      <td>Terraced Duplexes</td>\n",
       "      <td>Katampe</td>\n",
       "      <td>Abuja</td>\n",
       "      <td>800000000.0</td>\n",
       "    </tr>\n",
       "    <tr>\n",
       "      <th>2</th>\n",
       "      <td>4.0</td>\n",
       "      <td>5.0</td>\n",
       "      <td>5.0</td>\n",
       "      <td>4.0</td>\n",
       "      <td>Detached Duplex</td>\n",
       "      <td>Lekki</td>\n",
       "      <td>Lagos</td>\n",
       "      <td>120000000.0</td>\n",
       "    </tr>\n",
       "    <tr>\n",
       "      <th>3</th>\n",
       "      <td>4.0</td>\n",
       "      <td>4.0</td>\n",
       "      <td>5.0</td>\n",
       "      <td>6.0</td>\n",
       "      <td>Detached Duplex</td>\n",
       "      <td>Ajah</td>\n",
       "      <td>Lagos</td>\n",
       "      <td>40000000.0</td>\n",
       "    </tr>\n",
       "    <tr>\n",
       "      <th>4</th>\n",
       "      <td>4.0</td>\n",
       "      <td>4.0</td>\n",
       "      <td>5.0</td>\n",
       "      <td>2.0</td>\n",
       "      <td>Semi Detached Duplex</td>\n",
       "      <td>Lekki</td>\n",
       "      <td>Lagos</td>\n",
       "      <td>75000000.0</td>\n",
       "    </tr>\n",
       "  </tbody>\n",
       "</table>\n",
       "</div>"
      ],
      "text/plain": [
       "   bedrooms  bathrooms  toilets  parking_space                 title     town  \\\n",
       "0       6.0        5.0      5.0            4.0       Detached Duplex  Mabushi   \n",
       "1       4.0        5.0      5.0            4.0     Terraced Duplexes  Katampe   \n",
       "2       4.0        5.0      5.0            4.0       Detached Duplex    Lekki   \n",
       "3       4.0        4.0      5.0            6.0       Detached Duplex     Ajah   \n",
       "4       4.0        4.0      5.0            2.0  Semi Detached Duplex    Lekki   \n",
       "\n",
       "   state        price  \n",
       "0  Abuja  450000000.0  \n",
       "1  Abuja  800000000.0  \n",
       "2  Lagos  120000000.0  \n",
       "3  Lagos   40000000.0  \n",
       "4  Lagos   75000000.0  "
      ]
     },
     "execution_count": 179,
     "metadata": {},
     "output_type": "execute_result"
    }
   ],
   "source": [
    "df = pd.read_csv('nigeria_houses_data.csv')\n",
    "df.head()"
   ]
  },
  {
   "cell_type": "markdown",
   "id": "b7ee31e2",
   "metadata": {},
   "source": [
    "### Understanding the Dataset"
   ]
  },
  {
   "cell_type": "code",
   "execution_count": 180,
   "id": "940cdbdd",
   "metadata": {},
   "outputs": [
    {
     "data": {
      "text/plain": [
       "(24326, 8)"
      ]
     },
     "execution_count": 180,
     "metadata": {},
     "output_type": "execute_result"
    }
   ],
   "source": [
    "# shape\n",
    "df.shape"
   ]
  },
  {
   "cell_type": "markdown",
   "id": "cd21392f",
   "metadata": {},
   "source": [
    "* The dataset contains 24,326 records and 8 features"
   ]
  },
  {
   "cell_type": "code",
   "execution_count": 181,
   "id": "108a8cbd",
   "metadata": {},
   "outputs": [
    {
     "data": {
      "text/html": [
       "<div>\n",
       "<style scoped>\n",
       "    .dataframe tbody tr th:only-of-type {\n",
       "        vertical-align: middle;\n",
       "    }\n",
       "\n",
       "    .dataframe tbody tr th {\n",
       "        vertical-align: top;\n",
       "    }\n",
       "\n",
       "    .dataframe thead th {\n",
       "        text-align: right;\n",
       "    }\n",
       "</style>\n",
       "<table border=\"1\" class=\"dataframe\">\n",
       "  <thead>\n",
       "    <tr style=\"text-align: right;\">\n",
       "      <th></th>\n",
       "      <th>bedrooms</th>\n",
       "      <th>bathrooms</th>\n",
       "      <th>toilets</th>\n",
       "      <th>parking_space</th>\n",
       "      <th>price</th>\n",
       "    </tr>\n",
       "  </thead>\n",
       "  <tbody>\n",
       "    <tr>\n",
       "      <th>count</th>\n",
       "      <td>24326.000000</td>\n",
       "      <td>24326.000000</td>\n",
       "      <td>24326.000000</td>\n",
       "      <td>24326.000000</td>\n",
       "      <td>2.432600e+04</td>\n",
       "    </tr>\n",
       "    <tr>\n",
       "      <th>mean</th>\n",
       "      <td>4.338814</td>\n",
       "      <td>4.600798</td>\n",
       "      <td>5.176355</td>\n",
       "      <td>4.041725</td>\n",
       "      <td>3.013802e+08</td>\n",
       "    </tr>\n",
       "    <tr>\n",
       "      <th>std</th>\n",
       "      <td>1.138497</td>\n",
       "      <td>1.163161</td>\n",
       "      <td>1.226253</td>\n",
       "      <td>1.399936</td>\n",
       "      <td>1.220403e+10</td>\n",
       "    </tr>\n",
       "    <tr>\n",
       "      <th>min</th>\n",
       "      <td>1.000000</td>\n",
       "      <td>1.000000</td>\n",
       "      <td>1.000000</td>\n",
       "      <td>1.000000</td>\n",
       "      <td>9.000000e+04</td>\n",
       "    </tr>\n",
       "    <tr>\n",
       "      <th>25%</th>\n",
       "      <td>4.000000</td>\n",
       "      <td>4.000000</td>\n",
       "      <td>5.000000</td>\n",
       "      <td>4.000000</td>\n",
       "      <td>5.200000e+07</td>\n",
       "    </tr>\n",
       "    <tr>\n",
       "      <th>50%</th>\n",
       "      <td>4.000000</td>\n",
       "      <td>5.000000</td>\n",
       "      <td>5.000000</td>\n",
       "      <td>4.000000</td>\n",
       "      <td>8.500000e+07</td>\n",
       "    </tr>\n",
       "    <tr>\n",
       "      <th>75%</th>\n",
       "      <td>5.000000</td>\n",
       "      <td>5.000000</td>\n",
       "      <td>6.000000</td>\n",
       "      <td>4.000000</td>\n",
       "      <td>1.600000e+08</td>\n",
       "    </tr>\n",
       "    <tr>\n",
       "      <th>max</th>\n",
       "      <td>9.000000</td>\n",
       "      <td>9.000000</td>\n",
       "      <td>9.000000</td>\n",
       "      <td>9.000000</td>\n",
       "      <td>1.800000e+12</td>\n",
       "    </tr>\n",
       "  </tbody>\n",
       "</table>\n",
       "</div>"
      ],
      "text/plain": [
       "           bedrooms     bathrooms       toilets  parking_space         price\n",
       "count  24326.000000  24326.000000  24326.000000   24326.000000  2.432600e+04\n",
       "mean       4.338814      4.600798      5.176355       4.041725  3.013802e+08\n",
       "std        1.138497      1.163161      1.226253       1.399936  1.220403e+10\n",
       "min        1.000000      1.000000      1.000000       1.000000  9.000000e+04\n",
       "25%        4.000000      4.000000      5.000000       4.000000  5.200000e+07\n",
       "50%        4.000000      5.000000      5.000000       4.000000  8.500000e+07\n",
       "75%        5.000000      5.000000      6.000000       4.000000  1.600000e+08\n",
       "max        9.000000      9.000000      9.000000       9.000000  1.800000e+12"
      ]
     },
     "execution_count": 181,
     "metadata": {},
     "output_type": "execute_result"
    }
   ],
   "source": [
    "# descriptive stats\n",
    "df.describe()"
   ]
  },
  {
   "cell_type": "code",
   "execution_count": 182,
   "id": "bc59f3b6",
   "metadata": {},
   "outputs": [
    {
     "name": "stdout",
     "output_type": "stream",
     "text": [
      "<class 'pandas.core.frame.DataFrame'>\n",
      "RangeIndex: 24326 entries, 0 to 24325\n",
      "Data columns (total 8 columns):\n",
      " #   Column         Non-Null Count  Dtype  \n",
      "---  ------         --------------  -----  \n",
      " 0   bedrooms       24326 non-null  float64\n",
      " 1   bathrooms      24326 non-null  float64\n",
      " 2   toilets        24326 non-null  float64\n",
      " 3   parking_space  24326 non-null  float64\n",
      " 4   title          24326 non-null  object \n",
      " 5   town           24326 non-null  object \n",
      " 6   state          24326 non-null  object \n",
      " 7   price          24326 non-null  float64\n",
      "dtypes: float64(5), object(3)\n",
      "memory usage: 1.5+ MB\n"
     ]
    }
   ],
   "source": [
    "# info\n",
    "df.info()"
   ]
  },
  {
   "cell_type": "markdown",
   "id": "b375595b",
   "metadata": {},
   "source": [
    "* There is no missing values and all features are in the appropriate type"
   ]
  },
  {
   "cell_type": "code",
   "execution_count": 163,
   "id": "a75ff25a",
   "metadata": {},
   "outputs": [
    {
     "data": {
      "text/html": [
       "<div>\n",
       "<style scoped>\n",
       "    .dataframe tbody tr th:only-of-type {\n",
       "        vertical-align: middle;\n",
       "    }\n",
       "\n",
       "    .dataframe tbody tr th {\n",
       "        vertical-align: top;\n",
       "    }\n",
       "\n",
       "    .dataframe thead th {\n",
       "        text-align: right;\n",
       "    }\n",
       "</style>\n",
       "<table border=\"1\" class=\"dataframe\">\n",
       "  <thead>\n",
       "    <tr style=\"text-align: right;\">\n",
       "      <th></th>\n",
       "      <th>bedrooms</th>\n",
       "      <th>bathrooms</th>\n",
       "      <th>toilets</th>\n",
       "      <th>parking_space</th>\n",
       "      <th>price</th>\n",
       "    </tr>\n",
       "  </thead>\n",
       "  <tbody>\n",
       "    <tr>\n",
       "      <th>bedrooms</th>\n",
       "      <td>1.000000</td>\n",
       "      <td>0.726557</td>\n",
       "      <td>0.610501</td>\n",
       "      <td>0.158528</td>\n",
       "      <td>0.025734</td>\n",
       "    </tr>\n",
       "    <tr>\n",
       "      <th>bathrooms</th>\n",
       "      <td>0.726557</td>\n",
       "      <td>1.000000</td>\n",
       "      <td>0.719102</td>\n",
       "      <td>0.174129</td>\n",
       "      <td>0.021965</td>\n",
       "    </tr>\n",
       "    <tr>\n",
       "      <th>toilets</th>\n",
       "      <td>0.610501</td>\n",
       "      <td>0.719102</td>\n",
       "      <td>1.000000</td>\n",
       "      <td>0.225345</td>\n",
       "      <td>0.015486</td>\n",
       "    </tr>\n",
       "    <tr>\n",
       "      <th>parking_space</th>\n",
       "      <td>0.158528</td>\n",
       "      <td>0.174129</td>\n",
       "      <td>0.225345</td>\n",
       "      <td>1.000000</td>\n",
       "      <td>0.018370</td>\n",
       "    </tr>\n",
       "    <tr>\n",
       "      <th>price</th>\n",
       "      <td>0.025734</td>\n",
       "      <td>0.021965</td>\n",
       "      <td>0.015486</td>\n",
       "      <td>0.018370</td>\n",
       "      <td>1.000000</td>\n",
       "    </tr>\n",
       "  </tbody>\n",
       "</table>\n",
       "</div>"
      ],
      "text/plain": [
       "               bedrooms  bathrooms   toilets  parking_space     price\n",
       "bedrooms       1.000000   0.726557  0.610501       0.158528  0.025734\n",
       "bathrooms      0.726557   1.000000  0.719102       0.174129  0.021965\n",
       "toilets        0.610501   0.719102  1.000000       0.225345  0.015486\n",
       "parking_space  0.158528   0.174129  0.225345       1.000000  0.018370\n",
       "price          0.025734   0.021965  0.015486       0.018370  1.000000"
      ]
     },
     "execution_count": 163,
     "metadata": {},
     "output_type": "execute_result"
    }
   ],
   "source": [
    "# correlation\n",
    "df.corr()"
   ]
  },
  {
   "cell_type": "code",
   "execution_count": 164,
   "id": "faabc103",
   "metadata": {},
   "outputs": [
    {
     "data": {
      "image/png": "[encoded data removed]",
      "text/plain": [
       "<Figure size 640x480 with 2 Axes>"
      ]
     },
     "metadata": {},
     "output_type": "display_data"
    }
   ],
   "source": [
    "# visualize the correlation\n",
    "sns.heatmap(df.corr(), annot=True)\n",
    "plt.title(\"Correlations of Dataset\")\n",
    "plt.show()"
   ]
  },
  {
   "cell_type": "markdown",
   "id": "34affc61",
   "metadata": {},
   "source": [
    "**Total Numbers of Properties**"
   ]
  },
  {
   "cell_type": "code",
   "execution_count": 165,
   "id": "d504580c",
   "metadata": {},
   "outputs": [
    {
     "data": {
      "text/plain": [
       "24326"
      ]
     },
     "execution_count": 165,
     "metadata": {},
     "output_type": "execute_result"
    }
   ],
   "source": [
    "len(df)"
   ]
  },
  {
   "cell_type": "markdown",
   "id": "02e7368e",
   "metadata": {},
   "source": [
    "**Unique Titles of Properties**"
   ]
  },
  {
   "cell_type": "code",
   "execution_count": 166,
   "id": "17b58604",
   "metadata": {},
   "outputs": [
    {
     "name": "stdout",
     "output_type": "stream",
     "text": [
      "* Detached Duplex\n",
      "* Terraced Duplexes\n",
      "* Semi Detached Duplex\n",
      "* Detached Bungalow\n",
      "* Block of Flats\n",
      "* Semi Detached Bungalow\n",
      "* Terraced Bungalow\n",
      "\n",
      "There are 7 unique titles.\n"
     ]
    }
   ],
   "source": [
    "for t in df['title'].unique():\n",
    "    print(f\"* {t}\")\n",
    "\n",
    "# print length\n",
    "print(f\"\\nThere are {len(df['title'].unique())} unique titles.\")"
   ]
  },
  {
   "cell_type": "markdown",
   "id": "6cb717f0",
   "metadata": {},
   "source": [
    "**Unique States of Properties**"
   ]
  },
  {
   "cell_type": "code",
   "execution_count": 167,
   "id": "a65ad914",
   "metadata": {},
   "outputs": [
    {
     "name": "stdout",
     "output_type": "stream",
     "text": [
      "* Abuja\n",
      "* Lagos\n",
      "* Edo\n",
      "* Ogun\n",
      "* Oyo\n",
      "* Imo\n",
      "* Anambara\n",
      "* Rivers\n",
      "* Enugu\n",
      "* Kaduna\n",
      "* Kwara\n",
      "* Nasarawa\n",
      "* Abia\n",
      "* Delta\n",
      "* Akwa Ibom\n",
      "* Osun\n",
      "* Ekiti\n",
      "* Cross River\n",
      "* Kogi\n",
      "* Plateau\n",
      "* Kano\n",
      "* Katsina\n",
      "* Bayelsa\n",
      "* Borno\n",
      "* Niger\n",
      "\n",
      "There are 25 unique states.\n"
     ]
    }
   ],
   "source": [
    "for s in df['state'].unique():\n",
    "    print(f\"* {s}\")\n",
    "\n",
    "# print length\n",
    "print(f\"\\nThere are {len(df['state'].unique())} unique states.\")"
   ]
  },
  {
   "cell_type": "markdown",
   "id": "6f14566a",
   "metadata": {},
   "source": [
    "**Unique Town of Properties**"
   ]
  },
  {
   "cell_type": "code",
   "execution_count": 168,
   "id": "53c4dad5",
   "metadata": {},
   "outputs": [
    {
     "name": "stdout",
     "output_type": "stream",
     "text": [
      "* Mabushi\n",
      "* Katampe\n",
      "* Lekki\n",
      "* Ajah\n",
      "* Epe\n",
      "* Lokogoma District\n",
      "* Oredo\n",
      "* Victoria Island (VI)\n",
      "* Mowe Ofada\n",
      "* Ikeja\n",
      "* Ikoyi\n",
      "* Magodo\n",
      "* Kaura\n",
      "* Galadimawa\n",
      "* Gwarinpa\n",
      "* Abeokuta North\n",
      "* Lugbe District\n",
      "* Ibeju Lekki\n",
      "* Yaba\n",
      "* Sango Ota\n",
      "* Ifako-Ijaiye\n",
      "* Agege\n",
      "* Ikorodu\n",
      "* Jahi\n",
      "* Ibadan\n",
      "* Orozo\n",
      "* Ifo\n",
      "* Owerri North\n",
      "* Guzape District\n",
      "* Idu Industrial\n",
      "* Owerri Municipal\n",
      "* Isheri North\n",
      "* Utako\n",
      "* Port Harcourt\n",
      "* Kuje\n",
      "* Isheri\n",
      "* Life Camp\n",
      "* Ipaja\n",
      "* Ado-Odo/Ota\n",
      "* Dape\n",
      "* Mushin\n",
      "* Ejigbo\n",
      "* Isolo\n",
      "* Ojodu\n",
      "* Gaduwa\n",
      "* Enugu\n",
      "* Dakwo\n",
      "* Asokoro District\n",
      "* Alimosho\n",
      "* Sagamu\n",
      "* Chikun\n",
      "* Egbeda\n",
      "* Wuye\n",
      "* Kubwa\n",
      "* Shomolu\n",
      "* Ogudu\n",
      "* Owerri West\n",
      "* Ibafo\n",
      "* Surulere\n",
      "* Obio-Akpor\n",
      "* Ayobo\n",
      "* Apo\n",
      "* Mowe Town\n",
      "* Ibadan South-West\n",
      "* Wuse 2\n",
      "* Durumi\n",
      "* Simawa\n",
      "* Arepo\n",
      "* Ikotun\n",
      "* Oluyole\n",
      "* Maitama District\n",
      "* Maryland\n",
      "* Ido\n",
      "* Karsana\n",
      "* Wuse\n",
      "* Ilorin West\n",
      "* Kurudu\n",
      "* Karmo\n",
      "* Abeokuta South\n",
      "* KM 46\n",
      "* Gbagada\n",
      "* Idimu\n",
      "* Kaduna South\n",
      "* Magboro\n",
      "* Gudu\n",
      "* Kukwaba\n",
      "* Mbora (Nbora)\n",
      "* Obafemi Owode\n",
      "* Jabi\n",
      "* Karu\n",
      "* Ojo\n",
      "* Garki\n",
      "* Aba\n",
      "* Ogijo\n",
      "* Asaba\n",
      "* Uyo\n",
      "* Kosofe\n",
      "* Oyigbo\n",
      "* Karshi\n",
      "* Osogbo\n",
      "* Kado\n",
      "* Ilupeju\n",
      "* Afijio\n",
      "* Ketu\n",
      "* Ado-Ekiti\n",
      "* Ibadan North\n",
      "* Egor\n",
      "* Nyanya\n",
      "* Ibarapa North\n",
      "* Kyami\n",
      "* Ojota\n",
      "* Dutse\n",
      "* Nasarawa\n",
      "* Calabar\n",
      "* Kaduna North\n",
      "* Eleme\n",
      "* Kafe\n",
      "* Oshodi\n",
      "* Dakibiyu\n",
      "* Amuwo Odofin\n",
      "* Ijede\n",
      "* Bwari\n",
      "* Dekina\n",
      "* Jos South\n",
      "* Agbara-Igbesa\n",
      "* Ijaiye\n",
      "* Kagini\n",
      "* Ohaji/Egbema\n",
      "* Mpape\n",
      "* Apapa\n",
      "* Lagos Island\n",
      "* Gwagwalada\n",
      "* Ijoko\n",
      "* Diplomatic Zones\n",
      "* Akure\n",
      "* Ethiope West\n",
      "* Badagry\n",
      "* Kano\n",
      "* Ede South\n",
      "* Ilorin South\n",
      "* Oke-Aro\n",
      "* Oke-Odo\n",
      "* Ikot Ekpene\n",
      "* Kusada\n",
      "* Akinyele\n",
      "* Kabusa\n",
      "* Dei-Dei\n",
      "* Eket\n",
      "* Egbe\n",
      "* Udu\n",
      "* Ibadan North-East\n",
      "* Danja\n",
      "* Yewa South\n",
      "* Warri\n",
      "* Duboyi\n",
      "* Jikwoyi\n",
      "* Oyo West\n",
      "* Agbara\n",
      "* Ovia North-East\n",
      "* Yenagoa\n",
      "* Central Business District\n",
      "* Guzamala\n",
      "* Lokoja\n",
      "* Jos North\n",
      "* Orile\n",
      "* Wumba\n",
      "* Ibadan North-West\n",
      "* Eko Atlantic City\n",
      "* Imota\n",
      "* Ikwerre\n",
      "* Keffi\n",
      "* Ilorin East\n",
      "* Uvwie\n",
      "* Umuahia\n",
      "* Ijesha\n",
      "* Okene\n",
      "* Aniocha South\n",
      "* Ijebu Ode\n",
      "* Okpe\n",
      "* Ughelli South\n",
      "* Ewekoro\n",
      "* Nassarawa\n",
      "* Mararaba\n",
      "* Uhunmwonde\n",
      "* Ughelli North\n",
      "* Ibeju\n",
      "* Abraka\n",
      "* Paikoro\n",
      "* Ikpoba Okha\n",
      "\n",
      "There are 189 unique towns.\n"
     ]
    }
   ],
   "source": [
    "for t in df['town'].unique():\n",
    "    print(f\"* {t}\")\n",
    "\n",
    "# print length\n",
    "print(f\"\\nThere are {len(df['town'].unique())} unique towns.\")"
   ]
  },
  {
   "cell_type": "markdown",
   "id": "aca7da57",
   "metadata": {},
   "source": [
    "## Univariant Analysis"
   ]
  },
  {
   "cell_type": "markdown",
   "id": "60059eb5",
   "metadata": {},
   "source": [
    "**Distribution of Prices** "
   ]
  },
  {
   "cell_type": "code",
   "execution_count": 169,
   "id": "d71f943b",
   "metadata": {
    "scrolled": false
   },
   "outputs": [
    {
     "data": {
      "image/png": "[encoded data removed]",
      "text/plain": [
       "<Figure size 640x480 with 1 Axes>"
      ]
     },
     "metadata": {},
     "output_type": "display_data"
    }
   ],
   "source": [
    "sns.histplot(df['price'], bins=20, kde=True)\n",
    "plt.title('Distribution of prices')\n",
    "plt.xlabel('Prices')\n",
    "plt.ylabel(\"Counts\")\n",
    "plt.show()"
   ]
  },
  {
   "cell_type": "markdown",
   "id": "579485ad",
   "metadata": {},
   "source": [
    "## Bivariate Analysis"
   ]
  },
  {
   "cell_type": "markdown",
   "id": "7d4b0ac7",
   "metadata": {},
   "source": [
    "**Count of Houses by State**"
   ]
  },
  {
   "cell_type": "code",
   "execution_count": 170,
   "id": "f28d3b5d",
   "metadata": {},
   "outputs": [],
   "source": [
    "count_by_state  = df['state'].value_counts()[0:10]"
   ]
  },
  {
   "cell_type": "code",
   "execution_count": 171,
   "id": "3d631bd2",
   "metadata": {},
   "outputs": [
    {
     "data": {
      "image/png": "[encoded data removed]",
      "text/plain": [
       "<Figure size 640x480 with 1 Axes>"
      ]
     },
     "metadata": {},
     "output_type": "display_data"
    }
   ],
   "source": [
    "sns.barplot(x= count_by_state.index, y= count_by_state.values)\n",
    "plt.title(\"Numbers of Houses by State\")\n",
    "plt.xlabel(\"State\")\n",
    "plt.ylabel(\"Number of Houses\")\n",
    "plt.xticks(rotation=45)\n",
    "plt.show()"
   ]
  },
  {
   "cell_type": "markdown",
   "id": "4426eb3e",
   "metadata": {},
   "source": [
    "There are High numbers of Housing in Lagos, followed by Abuja and Ogun"
   ]
  },
  {
   "cell_type": "markdown",
   "id": "eda78532",
   "metadata": {},
   "source": [
    "**Count of Houses by Title**"
   ]
  },
  {
   "cell_type": "code",
   "execution_count": 172,
   "id": "2f46428d",
   "metadata": {},
   "outputs": [],
   "source": [
    "count_by_title  = df['title'].value_counts()[0:10]"
   ]
  },
  {
   "cell_type": "code",
   "execution_count": 173,
   "id": "972c2ea3",
   "metadata": {},
   "outputs": [
    {
     "data": {
      "image/png": "[encoded data removed]",
      "text/plain": [
       "<Figure size 640x480 with 1 Axes>"
      ]
     },
     "metadata": {},
     "output_type": "display_data"
    }
   ],
   "source": [
    "sns.barplot(x= count_by_title.index, y= count_by_title.values)\n",
    "plt.title(\"Numbers of Houses by Title\")\n",
    "plt.xlabel(\"Title\")\n",
    "plt.ylabel(\"Number of Houses\")\n",
    "plt.xticks(rotation=45)\n",
    "plt.show()"
   ]
  },
  {
   "cell_type": "markdown",
   "id": "206cd8e0",
   "metadata": {},
   "source": [
    "**Average Price by State**"
   ]
  },
  {
   "cell_type": "code",
   "execution_count": 174,
   "id": "8f33457b",
   "metadata": {},
   "outputs": [],
   "source": [
    "avg_price_by_state = df[['state', 'price']].groupby(by=df['state']).mean().sort_values('price', ascending=False).reset_index()[0:10]"
   ]
  },
  {
   "cell_type": "code",
   "execution_count": 175,
   "id": "2ce806e0",
   "metadata": {},
   "outputs": [
    {
     "data": {
      "text/html": [
       "<div>\n",
       "<style scoped>\n",
       "    .dataframe tbody tr th:only-of-type {\n",
       "        vertical-align: middle;\n",
       "    }\n",
       "\n",
       "    .dataframe tbody tr th {\n",
       "        vertical-align: top;\n",
       "    }\n",
       "\n",
       "    .dataframe thead th {\n",
       "        text-align: right;\n",
       "    }\n",
       "</style>\n",
       "<table border=\"1\" class=\"dataframe\">\n",
       "  <thead>\n",
       "    <tr style=\"text-align: right;\">\n",
       "      <th></th>\n",
       "      <th>state</th>\n",
       "      <th>price</th>\n",
       "    </tr>\n",
       "  </thead>\n",
       "  <tbody>\n",
       "    <tr>\n",
       "      <th>0</th>\n",
       "      <td>Lagos</td>\n",
       "      <td>3.457721e+08</td>\n",
       "    </tr>\n",
       "    <tr>\n",
       "      <th>1</th>\n",
       "      <td>Abuja</td>\n",
       "      <td>2.279246e+08</td>\n",
       "    </tr>\n",
       "    <tr>\n",
       "      <th>2</th>\n",
       "      <td>Rivers</td>\n",
       "      <td>1.303284e+08</td>\n",
       "    </tr>\n",
       "    <tr>\n",
       "      <th>3</th>\n",
       "      <td>Borno</td>\n",
       "      <td>1.050000e+08</td>\n",
       "    </tr>\n",
       "    <tr>\n",
       "      <th>4</th>\n",
       "      <td>Delta</td>\n",
       "      <td>1.030238e+08</td>\n",
       "    </tr>\n",
       "    <tr>\n",
       "      <th>5</th>\n",
       "      <td>Anambara</td>\n",
       "      <td>9.465267e+07</td>\n",
       "    </tr>\n",
       "    <tr>\n",
       "      <th>6</th>\n",
       "      <td>Abia</td>\n",
       "      <td>9.222222e+07</td>\n",
       "    </tr>\n",
       "    <tr>\n",
       "      <th>7</th>\n",
       "      <td>Bayelsa</td>\n",
       "      <td>9.000000e+07</td>\n",
       "    </tr>\n",
       "    <tr>\n",
       "      <th>8</th>\n",
       "      <td>Imo</td>\n",
       "      <td>7.472561e+07</td>\n",
       "    </tr>\n",
       "    <tr>\n",
       "      <th>9</th>\n",
       "      <td>Enugu</td>\n",
       "      <td>6.655977e+07</td>\n",
       "    </tr>\n",
       "  </tbody>\n",
       "</table>\n",
       "</div>"
      ],
      "text/plain": [
       "      state         price\n",
       "0     Lagos  3.457721e+08\n",
       "1     Abuja  2.279246e+08\n",
       "2    Rivers  1.303284e+08\n",
       "3     Borno  1.050000e+08\n",
       "4     Delta  1.030238e+08\n",
       "5  Anambara  9.465267e+07\n",
       "6      Abia  9.222222e+07\n",
       "7   Bayelsa  9.000000e+07\n",
       "8       Imo  7.472561e+07\n",
       "9     Enugu  6.655977e+07"
      ]
     },
     "execution_count": 175,
     "metadata": {},
     "output_type": "execute_result"
    }
   ],
   "source": [
    "avg_price_by_state"
   ]
  },
  {
   "cell_type": "code",
   "execution_count": 176,
   "id": "d1e22141",
   "metadata": {},
   "outputs": [
    {
     "data": {
      "image/png": "[encoded data removed]",
      "text/plain": [
       "<Figure size 640x480 with 1 Axes>"
      ]
     },
     "metadata": {},
     "output_type": "display_data"
    }
   ],
   "source": [
    "sns.barplot(x=avg_price_by_state['state'], y=avg_price_by_state['price'])\n",
    "plt.title(\"Average Prices by State\")\n",
    "plt.xlabel(\"State\")\n",
    "plt.ylabel(\"Average Price\")\n",
    "plt.xticks(rotation=45)\n",
    "plt.show()"
   ]
  },
  {
   "cell_type": "markdown",
   "id": "7da4c62a",
   "metadata": {},
   "source": [
    "**Average Price by Town**"
   ]
  },
  {
   "cell_type": "code",
   "execution_count": null,
   "id": "449133c3",
   "metadata": {},
   "outputs": [],
   "source": []
  },
  {
   "cell_type": "markdown",
   "id": "d9f94fe3",
   "metadata": {},
   "source": [
    "**Average Price by Title**"
   ]
  },
  {
   "cell_type": "code",
   "execution_count": null,
   "id": "fd3936e9",
   "metadata": {},
   "outputs": [],
   "source": []
  },
  {
   "cell_type": "markdown",
   "id": "017fea90",
   "metadata": {},
   "source": [
    "## Model Building"
   ]
  },
  {
   "cell_type": "code",
   "execution_count": 177,
   "id": "02273608",
   "metadata": {},
   "outputs": [],
   "source": [
    "from sklearn.linear_model import LinearRegression\n",
    "from sklearn.model_selection import train_test_split\n",
    "\n",
    "from sklearn.preprocessing import OneHotEncoder # for encoding"
   ]
  },
  {
   "cell_type": "code",
   "execution_count": 187,
   "id": "1543eaed",
   "metadata": {},
   "outputs": [
    {
     "data": {
      "text/plain": [
       "OneHotEncoder()"
      ]
     },
     "execution_count": 187,
     "metadata": {},
     "output_type": "execute_result"
    }
   ],
   "source": [
    "# create an object\n",
    "he = OneHotEncoder()\n",
    "he.fit(df)"
   ]
  },
  {
   "cell_type": "code",
   "execution_count": 189,
   "id": "35a8f5ac",
   "metadata": {},
   "outputs": [
    {
     "data": {
      "text/html": [
       "<div>\n",
       "<style scoped>\n",
       "    .dataframe tbody tr th:only-of-type {\n",
       "        vertical-align: middle;\n",
       "    }\n",
       "\n",
       "    .dataframe tbody tr th {\n",
       "        vertical-align: top;\n",
       "    }\n",
       "\n",
       "    .dataframe thead th {\n",
       "        text-align: right;\n",
       "    }\n",
       "</style>\n",
       "<table border=\"1\" class=\"dataframe\">\n",
       "  <thead>\n",
       "    <tr style=\"text-align: right;\">\n",
       "      <th></th>\n",
       "      <th>bedrooms</th>\n",
       "      <th>bathrooms</th>\n",
       "      <th>toilets</th>\n",
       "      <th>parking_space</th>\n",
       "      <th>price</th>\n",
       "      <th>title_Block of Flats</th>\n",
       "      <th>title_Detached Bungalow</th>\n",
       "      <th>title_Detached Duplex</th>\n",
       "      <th>title_Semi Detached Bungalow</th>\n",
       "      <th>title_Semi Detached Duplex</th>\n",
       "      <th>...</th>\n",
       "      <th>state_Kogi</th>\n",
       "      <th>state_Kwara</th>\n",
       "      <th>state_Lagos</th>\n",
       "      <th>state_Nasarawa</th>\n",
       "      <th>state_Niger</th>\n",
       "      <th>state_Ogun</th>\n",
       "      <th>state_Osun</th>\n",
       "      <th>state_Oyo</th>\n",
       "      <th>state_Plateau</th>\n",
       "      <th>state_Rivers</th>\n",
       "    </tr>\n",
       "  </thead>\n",
       "  <tbody>\n",
       "    <tr>\n",
       "      <th>0</th>\n",
       "      <td>6.0</td>\n",
       "      <td>5.0</td>\n",
       "      <td>5.0</td>\n",
       "      <td>4.0</td>\n",
       "      <td>450000000.0</td>\n",
       "      <td>0</td>\n",
       "      <td>0</td>\n",
       "      <td>1</td>\n",
       "      <td>0</td>\n",
       "      <td>0</td>\n",
       "      <td>...</td>\n",
       "      <td>0</td>\n",
       "      <td>0</td>\n",
       "      <td>0</td>\n",
       "      <td>0</td>\n",
       "      <td>0</td>\n",
       "      <td>0</td>\n",
       "      <td>0</td>\n",
       "      <td>0</td>\n",
       "      <td>0</td>\n",
       "      <td>0</td>\n",
       "    </tr>\n",
       "    <tr>\n",
       "      <th>1</th>\n",
       "      <td>4.0</td>\n",
       "      <td>5.0</td>\n",
       "      <td>5.0</td>\n",
       "      <td>4.0</td>\n",
       "      <td>800000000.0</td>\n",
       "      <td>0</td>\n",
       "      <td>0</td>\n",
       "      <td>0</td>\n",
       "      <td>0</td>\n",
       "      <td>0</td>\n",
       "      <td>...</td>\n",
       "      <td>0</td>\n",
       "      <td>0</td>\n",
       "      <td>0</td>\n",
       "      <td>0</td>\n",
       "      <td>0</td>\n",
       "      <td>0</td>\n",
       "      <td>0</td>\n",
       "      <td>0</td>\n",
       "      <td>0</td>\n",
       "      <td>0</td>\n",
       "    </tr>\n",
       "    <tr>\n",
       "      <th>2</th>\n",
       "      <td>4.0</td>\n",
       "      <td>5.0</td>\n",
       "      <td>5.0</td>\n",
       "      <td>4.0</td>\n",
       "      <td>120000000.0</td>\n",
       "      <td>0</td>\n",
       "      <td>0</td>\n",
       "      <td>1</td>\n",
       "      <td>0</td>\n",
       "      <td>0</td>\n",
       "      <td>...</td>\n",
       "      <td>0</td>\n",
       "      <td>0</td>\n",
       "      <td>1</td>\n",
       "      <td>0</td>\n",
       "      <td>0</td>\n",
       "      <td>0</td>\n",
       "      <td>0</td>\n",
       "      <td>0</td>\n",
       "      <td>0</td>\n",
       "      <td>0</td>\n",
       "    </tr>\n",
       "    <tr>\n",
       "      <th>3</th>\n",
       "      <td>4.0</td>\n",
       "      <td>4.0</td>\n",
       "      <td>5.0</td>\n",
       "      <td>6.0</td>\n",
       "      <td>40000000.0</td>\n",
       "      <td>0</td>\n",
       "      <td>0</td>\n",
       "      <td>1</td>\n",
       "      <td>0</td>\n",
       "      <td>0</td>\n",
       "      <td>...</td>\n",
       "      <td>0</td>\n",
       "      <td>0</td>\n",
       "      <td>1</td>\n",
       "      <td>0</td>\n",
       "      <td>0</td>\n",
       "      <td>0</td>\n",
       "      <td>0</td>\n",
       "      <td>0</td>\n",
       "      <td>0</td>\n",
       "      <td>0</td>\n",
       "    </tr>\n",
       "    <tr>\n",
       "      <th>4</th>\n",
       "      <td>4.0</td>\n",
       "      <td>4.0</td>\n",
       "      <td>5.0</td>\n",
       "      <td>2.0</td>\n",
       "      <td>75000000.0</td>\n",
       "      <td>0</td>\n",
       "      <td>0</td>\n",
       "      <td>0</td>\n",
       "      <td>0</td>\n",
       "      <td>1</td>\n",
       "      <td>...</td>\n",
       "      <td>0</td>\n",
       "      <td>0</td>\n",
       "      <td>1</td>\n",
       "      <td>0</td>\n",
       "      <td>0</td>\n",
       "      <td>0</td>\n",
       "      <td>0</td>\n",
       "      <td>0</td>\n",
       "      <td>0</td>\n",
       "      <td>0</td>\n",
       "    </tr>\n",
       "  </tbody>\n",
       "</table>\n",
       "<p>5 rows × 226 columns</p>\n",
       "</div>"
      ],
      "text/plain": [
       "   bedrooms  bathrooms  toilets  parking_space        price  \\\n",
       "0       6.0        5.0      5.0            4.0  450000000.0   \n",
       "1       4.0        5.0      5.0            4.0  800000000.0   \n",
       "2       4.0        5.0      5.0            4.0  120000000.0   \n",
       "3       4.0        4.0      5.0            6.0   40000000.0   \n",
       "4       4.0        4.0      5.0            2.0   75000000.0   \n",
       "\n",
       "   title_Block of Flats  title_Detached Bungalow  title_Detached Duplex  \\\n",
       "0                     0                        0                      1   \n",
       "1                     0                        0                      0   \n",
       "2                     0                        0                      1   \n",
       "3                     0                        0                      1   \n",
       "4                     0                        0                      0   \n",
       "\n",
       "   title_Semi Detached Bungalow  title_Semi Detached Duplex  ...  state_Kogi  \\\n",
       "0                             0                           0  ...           0   \n",
       "1                             0                           0  ...           0   \n",
       "2                             0                           0  ...           0   \n",
       "3                             0                           0  ...           0   \n",
       "4                             0                           1  ...           0   \n",
       "\n",
       "   state_Kwara  state_Lagos  state_Nasarawa  state_Niger  state_Ogun  \\\n",
       "0            0            0               0            0           0   \n",
       "1            0            0               0            0           0   \n",
       "2            0            1               0            0           0   \n",
       "3            0            1               0            0           0   \n",
       "4            0            1               0            0           0   \n",
       "\n",
       "   state_Osun  state_Oyo  state_Plateau  state_Rivers  \n",
       "0           0          0              0             0  \n",
       "1           0          0              0             0  \n",
       "2           0          0              0             0  \n",
       "3           0          0              0             0  \n",
       "4           0          0              0             0  \n",
       "\n",
       "[5 rows x 226 columns]"
      ]
     },
     "execution_count": 189,
     "metadata": {},
     "output_type": "execute_result"
    }
   ],
   "source": [
    "new_df = pd.get_dummies(df, columns=['title', 'town', 'state'])\n",
    "new_df.head()"
   ]
  },
  {
   "cell_type": "code",
   "execution_count": 192,
   "id": "71ca1c58",
   "metadata": {},
   "outputs": [
    {
     "data": {
      "text/html": [
       "<div>\n",
       "<style scoped>\n",
       "    .dataframe tbody tr th:only-of-type {\n",
       "        vertical-align: middle;\n",
       "    }\n",
       "\n",
       "    .dataframe tbody tr th {\n",
       "        vertical-align: top;\n",
       "    }\n",
       "\n",
       "    .dataframe thead th {\n",
       "        text-align: right;\n",
       "    }\n",
       "</style>\n",
       "<table border=\"1\" class=\"dataframe\">\n",
       "  <thead>\n",
       "    <tr style=\"text-align: right;\">\n",
       "      <th></th>\n",
       "      <th>bedrooms</th>\n",
       "      <th>bathrooms</th>\n",
       "      <th>toilets</th>\n",
       "      <th>parking_space</th>\n",
       "      <th>title_Block of Flats</th>\n",
       "      <th>title_Detached Bungalow</th>\n",
       "      <th>title_Detached Duplex</th>\n",
       "      <th>title_Semi Detached Bungalow</th>\n",
       "      <th>title_Semi Detached Duplex</th>\n",
       "      <th>title_Terraced Bungalow</th>\n",
       "      <th>...</th>\n",
       "      <th>state_Kogi</th>\n",
       "      <th>state_Kwara</th>\n",
       "      <th>state_Lagos</th>\n",
       "      <th>state_Nasarawa</th>\n",
       "      <th>state_Niger</th>\n",
       "      <th>state_Ogun</th>\n",
       "      <th>state_Osun</th>\n",
       "      <th>state_Oyo</th>\n",
       "      <th>state_Plateau</th>\n",
       "      <th>state_Rivers</th>\n",
       "    </tr>\n",
       "  </thead>\n",
       "  <tbody>\n",
       "    <tr>\n",
       "      <th>0</th>\n",
       "      <td>6.0</td>\n",
       "      <td>5.0</td>\n",
       "      <td>5.0</td>\n",
       "      <td>4.0</td>\n",
       "      <td>0</td>\n",
       "      <td>0</td>\n",
       "      <td>1</td>\n",
       "      <td>0</td>\n",
       "      <td>0</td>\n",
       "      <td>0</td>\n",
       "      <td>...</td>\n",
       "      <td>0</td>\n",
       "      <td>0</td>\n",
       "      <td>0</td>\n",
       "      <td>0</td>\n",
       "      <td>0</td>\n",
       "      <td>0</td>\n",
       "      <td>0</td>\n",
       "      <td>0</td>\n",
       "      <td>0</td>\n",
       "      <td>0</td>\n",
       "    </tr>\n",
       "    <tr>\n",
       "      <th>1</th>\n",
       "      <td>4.0</td>\n",
       "      <td>5.0</td>\n",
       "      <td>5.0</td>\n",
       "      <td>4.0</td>\n",
       "      <td>0</td>\n",
       "      <td>0</td>\n",
       "      <td>0</td>\n",
       "      <td>0</td>\n",
       "      <td>0</td>\n",
       "      <td>0</td>\n",
       "      <td>...</td>\n",
       "      <td>0</td>\n",
       "      <td>0</td>\n",
       "      <td>0</td>\n",
       "      <td>0</td>\n",
       "      <td>0</td>\n",
       "      <td>0</td>\n",
       "      <td>0</td>\n",
       "      <td>0</td>\n",
       "      <td>0</td>\n",
       "      <td>0</td>\n",
       "    </tr>\n",
       "    <tr>\n",
       "      <th>2</th>\n",
       "      <td>4.0</td>\n",
       "      <td>5.0</td>\n",
       "      <td>5.0</td>\n",
       "      <td>4.0</td>\n",
       "      <td>0</td>\n",
       "      <td>0</td>\n",
       "      <td>1</td>\n",
       "      <td>0</td>\n",
       "      <td>0</td>\n",
       "      <td>0</td>\n",
       "      <td>...</td>\n",
       "      <td>0</td>\n",
       "      <td>0</td>\n",
       "      <td>1</td>\n",
       "      <td>0</td>\n",
       "      <td>0</td>\n",
       "      <td>0</td>\n",
       "      <td>0</td>\n",
       "      <td>0</td>\n",
       "      <td>0</td>\n",
       "      <td>0</td>\n",
       "    </tr>\n",
       "    <tr>\n",
       "      <th>3</th>\n",
       "      <td>4.0</td>\n",
       "      <td>4.0</td>\n",
       "      <td>5.0</td>\n",
       "      <td>6.0</td>\n",
       "      <td>0</td>\n",
       "      <td>0</td>\n",
       "      <td>1</td>\n",
       "      <td>0</td>\n",
       "      <td>0</td>\n",
       "      <td>0</td>\n",
       "      <td>...</td>\n",
       "      <td>0</td>\n",
       "      <td>0</td>\n",
       "      <td>1</td>\n",
       "      <td>0</td>\n",
       "      <td>0</td>\n",
       "      <td>0</td>\n",
       "      <td>0</td>\n",
       "      <td>0</td>\n",
       "      <td>0</td>\n",
       "      <td>0</td>\n",
       "    </tr>\n",
       "    <tr>\n",
       "      <th>4</th>\n",
       "      <td>4.0</td>\n",
       "      <td>4.0</td>\n",
       "      <td>5.0</td>\n",
       "      <td>2.0</td>\n",
       "      <td>0</td>\n",
       "      <td>0</td>\n",
       "      <td>0</td>\n",
       "      <td>0</td>\n",
       "      <td>1</td>\n",
       "      <td>0</td>\n",
       "      <td>...</td>\n",
       "      <td>0</td>\n",
       "      <td>0</td>\n",
       "      <td>1</td>\n",
       "      <td>0</td>\n",
       "      <td>0</td>\n",
       "      <td>0</td>\n",
       "      <td>0</td>\n",
       "      <td>0</td>\n",
       "      <td>0</td>\n",
       "      <td>0</td>\n",
       "    </tr>\n",
       "  </tbody>\n",
       "</table>\n",
       "<p>5 rows × 225 columns</p>\n",
       "</div>"
      ],
      "text/plain": [
       "   bedrooms  bathrooms  toilets  parking_space  title_Block of Flats  \\\n",
       "0       6.0        5.0      5.0            4.0                     0   \n",
       "1       4.0        5.0      5.0            4.0                     0   \n",
       "2       4.0        5.0      5.0            4.0                     0   \n",
       "3       4.0        4.0      5.0            6.0                     0   \n",
       "4       4.0        4.0      5.0            2.0                     0   \n",
       "\n",
       "   title_Detached Bungalow  title_Detached Duplex  \\\n",
       "0                        0                      1   \n",
       "1                        0                      0   \n",
       "2                        0                      1   \n",
       "3                        0                      1   \n",
       "4                        0                      0   \n",
       "\n",
       "   title_Semi Detached Bungalow  title_Semi Detached Duplex  \\\n",
       "0                             0                           0   \n",
       "1                             0                           0   \n",
       "2                             0                           0   \n",
       "3                             0                           0   \n",
       "4                             0                           1   \n",
       "\n",
       "   title_Terraced Bungalow  ...  state_Kogi  state_Kwara  state_Lagos  \\\n",
       "0                        0  ...           0            0            0   \n",
       "1                        0  ...           0            0            0   \n",
       "2                        0  ...           0            0            1   \n",
       "3                        0  ...           0            0            1   \n",
       "4                        0  ...           0            0            1   \n",
       "\n",
       "   state_Nasarawa  state_Niger  state_Ogun  state_Osun  state_Oyo  \\\n",
       "0               0            0           0           0          0   \n",
       "1               0            0           0           0          0   \n",
       "2               0            0           0           0          0   \n",
       "3               0            0           0           0          0   \n",
       "4               0            0           0           0          0   \n",
       "\n",
       "   state_Plateau  state_Rivers  \n",
       "0              0             0  \n",
       "1              0             0  \n",
       "2              0             0  \n",
       "3              0             0  \n",
       "4              0             0  \n",
       "\n",
       "[5 rows x 225 columns]"
      ]
     },
     "execution_count": 192,
     "metadata": {},
     "output_type": "execute_result"
    }
   ],
   "source": [
    "# split data into dependent and Independent Feature\n",
    "X = new_df.drop(columns=['price'])\n",
    "X.head()"
   ]
  },
  {
   "cell_type": "code",
   "execution_count": 193,
   "id": "7c459258",
   "metadata": {},
   "outputs": [
    {
     "data": {
      "text/plain": [
       "0    450000000.0\n",
       "1    800000000.0\n",
       "2    120000000.0\n",
       "3     40000000.0\n",
       "4     75000000.0\n",
       "Name: price, dtype: float64"
      ]
     },
     "execution_count": 193,
     "metadata": {},
     "output_type": "execute_result"
    }
   ],
   "source": [
    "y = new_df['price']\n",
    "y.head()"
   ]
  },
  {
   "cell_type": "markdown",
   "id": "6225fd18",
   "metadata": {},
   "source": [
    "### Train Test Split"
   ]
  },
  {
   "cell_type": "code",
   "execution_count": 194,
   "id": "b340c033",
   "metadata": {},
   "outputs": [],
   "source": [
    "X_train, X_test, y_train, y_test = train_test_split(X, y, test_size=0.2)"
   ]
  },
  {
   "cell_type": "code",
   "execution_count": 195,
   "id": "fec39dfa",
   "metadata": {},
   "outputs": [
    {
     "data": {
      "text/plain": [
       "(19460, 225)"
      ]
     },
     "execution_count": 195,
     "metadata": {},
     "output_type": "execute_result"
    }
   ],
   "source": [
    "X_train.shape"
   ]
  },
  {
   "cell_type": "code",
   "execution_count": 196,
   "id": "d2ca9327",
   "metadata": {},
   "outputs": [
    {
     "data": {
      "text/plain": [
       "(19460,)"
      ]
     },
     "execution_count": 196,
     "metadata": {},
     "output_type": "execute_result"
    }
   ],
   "source": [
    "y_train.shape"
   ]
  },
  {
   "cell_type": "code",
   "execution_count": 197,
   "id": "33aea250",
   "metadata": {},
   "outputs": [
    {
     "data": {
      "text/plain": [
       "(4866, 225)"
      ]
     },
     "execution_count": 197,
     "metadata": {},
     "output_type": "execute_result"
    }
   ],
   "source": [
    "X_test.shape"
   ]
  },
  {
   "cell_type": "code",
   "execution_count": 198,
   "id": "ffe5c52b",
   "metadata": {},
   "outputs": [
    {
     "data": {
      "text/plain": [
       "(4866,)"
      ]
     },
     "execution_count": 198,
     "metadata": {},
     "output_type": "execute_result"
    }
   ],
   "source": [
    "y_test.shape"
   ]
  },
  {
   "cell_type": "markdown",
   "id": "e1b91df3",
   "metadata": {},
   "source": [
    "### Train Model"
   ]
  },
  {
   "cell_type": "code",
   "execution_count": 199,
   "id": "5d2d2a5f",
   "metadata": {},
   "outputs": [],
   "source": [
    "lm = LinearRegression()"
   ]
  },
  {
   "cell_type": "code",
   "execution_count": 200,
   "id": "881dcfe9",
   "metadata": {},
   "outputs": [
    {
     "data": {
      "text/plain": [
       "LinearRegression()"
      ]
     },
     "execution_count": 200,
     "metadata": {},
     "output_type": "execute_result"
    }
   ],
   "source": [
    "lm.fit(X_train, y_train)"
   ]
  },
  {
   "cell_type": "code",
   "execution_count": 201,
   "id": "0ad425e2",
   "metadata": {},
   "outputs": [
    {
     "name": "stdout",
     "output_type": "stream",
     "text": [
      "Intercept -1.0890277464031802e+20\n"
     ]
    }
   ],
   "source": [
    "print(f\"Intercept {lm.intercept_}\")"
   ]
  },
  {
   "cell_type": "code",
   "execution_count": 202,
   "id": "46c5cc27",
   "metadata": {},
   "outputs": [
    {
     "name": "stdout",
     "output_type": "stream",
     "text": [
      "Coefficients [ 3.12177594e+08  1.58715124e+08 -1.40381397e+08  1.67384487e+08\n",
      "  9.18942304e+19  9.18942304e+19  9.18942304e+19  9.18942304e+19\n",
      "  9.18942304e+19  9.18942304e+19  9.18942304e+19  1.09776946e+19\n",
      "  2.69880045e+18  2.69880045e+18  3.09731074e+18  5.90919152e+18\n",
      "  2.69880045e+18  2.65224969e+18  2.69880045e+18  2.69880045e+18\n",
      "  2.69880045e+18  2.69880045e+18  2.65224969e+18  2.69880045e+18\n",
      "  2.69880045e+18  2.69880045e+18  2.48949459e+18  2.69880045e+18\n",
      "  2.69880045e+18  2.69880045e+18  2.48949460e+18  2.69880045e+18\n",
      "  2.69880045e+18  2.69880045e+18  2.69880045e+18  7.69356731e+18\n",
      "  2.69880045e+18  4.32633652e+18  2.69880045e+18  2.69880045e+18\n",
      "  5.82849113e+18  2.69880045e+18  2.69880045e+18  5.13837141e+18\n",
      "  2.69880045e+18  2.69880045e+18  2.69880045e+18  2.69880045e+18\n",
      "  7.51693132e+18  2.69880045e+18  2.65224969e+18 -1.24876451e+18\n",
      "  2.69880045e+18 -8.65597836e+16  2.69880045e+18  2.69880045e+18\n",
      "  8.57230891e+18  2.69880045e+18  2.48949459e+18  2.69880045e+18\n",
      "  2.69880045e+18  2.69880045e+18  2.69880045e+18  2.69880045e+18\n",
      "  2.69880045e+18  8.47843418e+18  2.69880045e+18  2.69880045e+18\n",
      "  2.69880045e+18  2.65224969e+18  2.65224969e+18  2.65224969e+18\n",
      "  2.65224969e+18  2.65224969e+18  2.69880045e+18  2.65224969e+18\n",
      "  2.69880045e+18  2.69880045e+18  2.69880045e+18  2.65224969e+18\n",
      "  2.69880045e+18  2.69880045e+18  2.69880045e+18  2.69880045e+18\n",
      "  2.69880045e+18  2.69880045e+18  2.69880045e+18  2.69880045e+18\n",
      "  2.69880045e+18  2.69880045e+18  7.12479052e+18  2.69880045e+18\n",
      "  2.69880045e+18 -1.24876451e+18  2.69880045e+18  4.17998491e+18\n",
      "  4.17998491e+18  4.17998491e+18  2.69880045e+18  2.69880045e+18\n",
      "  2.69880045e+18  2.69880045e+18  2.69880045e+18  2.69880045e+18\n",
      "  2.69880045e+18  2.69880045e+18  2.65325688e+14  4.67428944e+18\n",
      "  4.67428944e+18  2.69880045e+18  2.69880045e+18  2.69880045e+18\n",
      "  4.32633652e+18  4.32633652e+18  2.69880045e+18  2.69880045e+18\n",
      "  8.49766671e+18  2.69880045e+18  2.69880045e+18  2.69880045e+18\n",
      "  2.69880045e+18  2.69880045e+18  2.69880045e+18  2.69880045e+18\n",
      "  2.69880045e+18  2.69880045e+18  2.69880045e+18  2.69880045e+18\n",
      "  2.69880045e+18  2.69880045e+18  5.82849113e+18  2.69880045e+18\n",
      "  2.69880045e+18  2.69880045e+18  2.69880045e+18  2.69880045e+18\n",
      "  5.13837140e+18  2.69880045e+18  2.69880045e+18  2.69880045e+18\n",
      "  2.69880045e+18  2.69880045e+18  2.69880045e+18  2.69880045e+18\n",
      "  2.69880045e+18  2.69880045e+18  2.69880045e+18  2.69880045e+18\n",
      "  2.69880045e+18  1.02400000e+03  2.56000000e+02  2.69880045e+18\n",
      "  2.69880045e+18  2.69880045e+18  2.69880045e+18  2.69880045e+18\n",
      "  2.69880045e+18  2.69880045e+18  2.69880045e+18  7.05460938e+02\n",
      "  2.69880045e+18  2.69880045e+18  5.13837141e+18  2.48949460e+18\n",
      "  2.65224969e+18 -1.24876451e+18  2.81490223e+02  2.69880045e+18\n",
      "  2.69880045e+18  7.51693132e+18 -1.24876451e+18  2.69880045e+18\n",
      "  2.69880045e+18  2.69880045e+18  2.69880045e+18 -6.95336759e-01\n",
      "  8.53566218e+18  2.69880045e+18  2.69880045e+18  2.69880045e+18\n",
      "  2.69880045e+18  2.69880045e+18  2.69880045e+18  2.48949460e+18\n",
      "  2.48949460e+18  2.48949459e+18 -1.24876451e+18  1.09776946e+19\n",
      "  2.69880045e+18  2.48949460e+18  7.12479052e+18  2.69880045e+18\n",
      "  2.48949460e+18  2.69880045e+18  2.69880045e+18  2.69880045e+18\n",
      "  2.69880045e+18  2.69880045e+18  8.50427214e+18  2.69880045e+18\n",
      "  6.03084966e+18  1.43097438e+19  9.88375376e+18  1.43097438e+19\n",
      "  8.50427214e+18  8.53011010e+18  9.31497698e+18  1.45190497e+19\n",
      "  1.82573088e+19  1.10993528e+19  8.43623538e+18  1.43097438e+19\n",
      "  1.26822078e+19  8.51087758e+18  1.11800532e+19  1.18701729e+19\n",
      "  1.28285594e+19  1.43097438e+19  1.43097438e+19  8.47288210e+18\n",
      "  1.43097438e+19  9.49161297e+18  1.43562946e+19  1.23342548e+19\n",
      "  1.43097438e+19]\n"
     ]
    }
   ],
   "source": [
    "print(f\"Coefficients {lm.coef_}\")"
   ]
  },
  {
   "cell_type": "code",
   "execution_count": 203,
   "id": "aa2cadc4",
   "metadata": {},
   "outputs": [
    {
     "data": {
      "text/html": [
       "<div>\n",
       "<style scoped>\n",
       "    .dataframe tbody tr th:only-of-type {\n",
       "        vertical-align: middle;\n",
       "    }\n",
       "\n",
       "    .dataframe tbody tr th {\n",
       "        vertical-align: top;\n",
       "    }\n",
       "\n",
       "    .dataframe thead th {\n",
       "        text-align: right;\n",
       "    }\n",
       "</style>\n",
       "<table border=\"1\" class=\"dataframe\">\n",
       "  <thead>\n",
       "    <tr style=\"text-align: right;\">\n",
       "      <th></th>\n",
       "      <th>Coefficients</th>\n",
       "    </tr>\n",
       "  </thead>\n",
       "  <tbody>\n",
       "    <tr>\n",
       "      <th>bedrooms</th>\n",
       "      <td>3.121776e+08</td>\n",
       "    </tr>\n",
       "    <tr>\n",
       "      <th>bathrooms</th>\n",
       "      <td>1.587151e+08</td>\n",
       "    </tr>\n",
       "    <tr>\n",
       "      <th>toilets</th>\n",
       "      <td>-1.403814e+08</td>\n",
       "    </tr>\n",
       "    <tr>\n",
       "      <th>parking_space</th>\n",
       "      <td>1.673845e+08</td>\n",
       "    </tr>\n",
       "    <tr>\n",
       "      <th>title_Block of Flats</th>\n",
       "      <td>9.189423e+19</td>\n",
       "    </tr>\n",
       "    <tr>\n",
       "      <th>...</th>\n",
       "      <td>...</td>\n",
       "    </tr>\n",
       "    <tr>\n",
       "      <th>state_Ogun</th>\n",
       "      <td>1.430974e+19</td>\n",
       "    </tr>\n",
       "    <tr>\n",
       "      <th>state_Osun</th>\n",
       "      <td>9.491613e+18</td>\n",
       "    </tr>\n",
       "    <tr>\n",
       "      <th>state_Oyo</th>\n",
       "      <td>1.435629e+19</td>\n",
       "    </tr>\n",
       "    <tr>\n",
       "      <th>state_Plateau</th>\n",
       "      <td>1.233425e+19</td>\n",
       "    </tr>\n",
       "    <tr>\n",
       "      <th>state_Rivers</th>\n",
       "      <td>1.430974e+19</td>\n",
       "    </tr>\n",
       "  </tbody>\n",
       "</table>\n",
       "<p>225 rows × 1 columns</p>\n",
       "</div>"
      ],
      "text/plain": [
       "                      Coefficients\n",
       "bedrooms              3.121776e+08\n",
       "bathrooms             1.587151e+08\n",
       "toilets              -1.403814e+08\n",
       "parking_space         1.673845e+08\n",
       "title_Block of Flats  9.189423e+19\n",
       "...                            ...\n",
       "state_Ogun            1.430974e+19\n",
       "state_Osun            9.491613e+18\n",
       "state_Oyo             1.435629e+19\n",
       "state_Plateau         1.233425e+19\n",
       "state_Rivers          1.430974e+19\n",
       "\n",
       "[225 rows x 1 columns]"
      ]
     },
     "execution_count": 203,
     "metadata": {},
     "output_type": "execute_result"
    }
   ],
   "source": [
    "coef_df = pd.DataFrame(lm.coef_, X.columns, columns = ['Coefficients'])\n",
    "coef_df"
   ]
  },
  {
   "cell_type": "markdown",
   "id": "97023968",
   "metadata": {},
   "source": [
    "### Predictions"
   ]
  },
  {
   "cell_type": "code",
   "execution_count": 204,
   "id": "200cd5ba",
   "metadata": {},
   "outputs": [
    {
     "data": {
      "text/plain": [
       "array([ 2.05930496e+08, -6.95435264e+08,  3.22961408e+08, ...,\n",
       "        4.43351040e+07,  7.67623168e+08,  3.71507200e+08])"
      ]
     },
     "execution_count": 204,
     "metadata": {},
     "output_type": "execute_result"
    }
   ],
   "source": [
    "y_pred = lm.predict(X_test)\n",
    "y_pred"
   ]
  },
  {
   "cell_type": "code",
   "execution_count": 205,
   "id": "140b2652",
   "metadata": {},
   "outputs": [
    {
     "data": {
      "image/png": "[encoded data removed]",
      "text/plain": [
       "<Figure size 640x480 with 1 Axes>"
      ]
     },
     "metadata": {},
     "output_type": "display_data"
    }
   ],
   "source": [
    "# compare the y_pred and y_test\n",
    "sns.scatterplot(x = y_test, y = y_pred)\n",
    "plt.title(\"Relationship of y_test and y_pred\")\n",
    "plt.show()"
   ]
  },
  {
   "cell_type": "markdown",
   "id": "6ca3af08",
   "metadata": {},
   "source": [
    "### Model Evaluation"
   ]
  },
  {
   "cell_type": "code",
   "execution_count": 206,
   "id": "14bbb10b",
   "metadata": {},
   "outputs": [],
   "source": [
    "from sklearn import metrics"
   ]
  },
  {
   "cell_type": "code",
   "execution_count": 207,
   "id": "bb70b43f",
   "metadata": {},
   "outputs": [
    {
     "name": "stdout",
     "output_type": "stream",
     "text": [
      "Mean Absolute Error 6126299250626425.0.\n"
     ]
    }
   ],
   "source": [
    "print(f\"Mean Absolute Error {metrics.mean_absolute_error(y_test, y_pred)}.\")"
   ]
  },
  {
   "cell_type": "code",
   "execution_count": 208,
   "id": "771ddf9b",
   "metadata": {},
   "outputs": [
    {
     "name": "stdout",
     "output_type": "stream",
     "text": [
      "Mean Square Error 3.303588408288548e+34.\n"
     ]
    }
   ],
   "source": [
    "print(f\"Mean Square Error {metrics.mean_squared_error(y_test, y_pred)}.\")"
   ]
  },
  {
   "cell_type": "markdown",
   "id": "cbb8a8e6",
   "metadata": {},
   "source": [
    "### Other Models"
   ]
  },
  {
   "cell_type": "code",
   "execution_count": 214,
   "id": "26ac8f23",
   "metadata": {},
   "outputs": [],
   "source": [
    "from sklearn.neighbors import KNeighborsRegressor\n",
    "from sklearn.ensemble import RandomForestRegressor, GradientBoostingRegressor\n",
    "from sklearn.tree import DecisionTreeRegressor\n",
    "\n",
    "from sklearn.metrics import mean_squared_error, r2_score"
   ]
  },
  {
   "cell_type": "code",
   "execution_count": 216,
   "id": "e7c2b453",
   "metadata": {},
   "outputs": [
    {
     "name": "stdout",
     "output_type": "stream",
     "text": [
      "Linear Regression: \n",
      "MSE: 33035884082885481248051646104076288.0000\n",
      "R2 Score: -6133318717466270.0000\n",
      "-*-*-*-*-*-*-*-*-*-*-\n",
      "Decision Tree Regression: \n",
      "MSE: 94901925730775498752.0000\n",
      "R2 Score: -16.6191\n",
      "-*-*-*-*-*-*-*-*-*-*-\n",
      "Random Forest Regression: \n",
      "MSE: 76546992009354641408.0000\n",
      "R2 Score: -13.2114\n",
      "-*-*-*-*-*-*-*-*-*-*-\n",
      "Gradient Boosting Regression: \n",
      "MSE: 24969784919419850752.0000\n",
      "R2 Score: -3.6358\n",
      "-*-*-*-*-*-*-*-*-*-*-\n",
      "KNN Regression: \n",
      "MSE: 59399204189885759488.0000\n",
      "R2 Score: -10.0278\n",
      "-*-*-*-*-*-*-*-*-*-*-\n"
     ]
    }
   ],
   "source": [
    "models = {\n",
    "    'Linear Regression': LinearRegression(),\n",
    "    'Decision Tree Regression': DecisionTreeRegressor(),\n",
    "    'Random Forest Regression': RandomForestRegressor(),\n",
    "    'Gradient Boosting Regression': GradientBoostingRegressor(),\n",
    "    'KNN Regression': KNeighborsRegressor()\n",
    "}\n",
    "\n",
    "\n",
    "for name, model in models.items():\n",
    "    model.fit(X_train, y_train) # train model\n",
    "    y_pred = model.predict(X_test) # make prediction\n",
    "    \n",
    "    # calculate MSE\n",
    "    mse = mean_squared_error(y_test, y_pred) \n",
    "    # calculate R2 score\n",
    "    r2 = r2_score(y_test, y_pred)\n",
    "    \n",
    "    print(f\"{name}: \")\n",
    "    print(f\"MSE: {mse:.4f}\")\n",
    "    print(f\"R2 Score: {r2:.4f}\")\n",
    "    print(\"-*-*-*-*-*-*-*-*-*-*-\")"
   ]
  },
  {
   "cell_type": "markdown",
   "id": "b67decce",
   "metadata": {},
   "source": [
    "### Saving Model"
   ]
  },
  {
   "cell_type": "code",
   "execution_count": 220,
   "id": "17ea3272",
   "metadata": {},
   "outputs": [],
   "source": [
    "import joblib"
   ]
  },
  {
   "cell_type": "code",
   "execution_count": 222,
   "id": "6f921c53",
   "metadata": {},
   "outputs": [
    {
     "data": {
      "text/plain": [
       "['model.pk']"
      ]
     },
     "execution_count": 222,
     "metadata": {},
     "output_type": "execute_result"
    }
   ],
   "source": [
    "# dump model in a file\n",
    "joblib.dump(lm, 'model.pk')"
   ]
  },
  {
   "cell_type": "code",
   "execution_count": 223,
   "id": "c8f9e14a",
   "metadata": {},
   "outputs": [],
   "source": [
    "model = joblib.load('model.pk')"
   ]
  },
  {
   "cell_type": "code",
   "execution_count": 225,
   "id": "1f7a2e6f",
   "metadata": {},
   "outputs": [
    {
     "data": {
      "text/plain": [
       "array([ 2.05930496e+08, -6.95435264e+08,  3.22961408e+08, ...,\n",
       "        4.43351040e+07,  7.67623168e+08,  3.71507200e+08])"
      ]
     },
     "execution_count": 225,
     "metadata": {},
     "output_type": "execute_result"
    }
   ],
   "source": [
    "model.predict(X_test)"
   ]
  },
  {
   "cell_type": "code",
   "execution_count": null,
   "id": "f82169b3",
   "metadata": {},
   "outputs": [],
   "source": []
  }
 ],
 "metadata": {
  "kernelspec": {
   "display_name": "Python 3 (ipykernel)",
   "language": "python",
   "name": "python3"
  },
  "language_info": {
   "codemirror_mode": {
    "name": "ipython",
    "version": 3
   },
   "file_extension": ".py",
   "mimetype": "text/x-python",
   "name": "python",
   "nbconvert_exporter": "python",
   "pygments_lexer": "ipython3",
   "version": "3.9.13"
  }
 },
 "nbformat": 4,
 "nbformat_minor": 5
}
